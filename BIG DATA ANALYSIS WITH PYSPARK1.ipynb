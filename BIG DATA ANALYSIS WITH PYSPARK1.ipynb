{
 "cells": [
  {
   "cell_type": "code",
   "execution_count": 1,
   "id": "3b42f5d9-d781-47fb-9f60-b720355906b3",
   "metadata": {},
   "outputs": [],
   "source": [
    "import pyspark"
   ]
  },
  {
   "cell_type": "code",
   "execution_count": 2,
   "id": "916b004d-c45f-44fe-89c1-65186af08ef1",
   "metadata": {},
   "outputs": [],
   "source": [
    "from pyspark.sql import SparkSession"
   ]
  },
  {
   "cell_type": "code",
   "execution_count": 3,
   "id": "473cfbff-da28-4faf-9d2b-f58430e5be63",
   "metadata": {},
   "outputs": [],
   "source": [
    "spark=SparkSession.builder.appName(\"practice\").getOrCreate()"
   ]
  },
  {
   "cell_type": "code",
   "execution_count": 4,
   "id": "796b2aa5-c1e6-4da3-aca1-d600d5d017b5",
   "metadata": {
    "scrolled": true
   },
   "outputs": [
    {
     "data": {
      "text/html": [
       "\n",
       "            <div>\n",
       "                <p><b>SparkSession - in-memory</b></p>\n",
       "                \n",
       "        <div>\n",
       "            <p><b>SparkContext</b></p>\n",
       "\n",
       "            <p><a href=\"http://172.20.10.12:4040\">Spark UI</a></p>\n",
       "\n",
       "            <dl>\n",
       "              <dt>Version</dt>\n",
       "                <dd><code>v3.5.1</code></dd>\n",
       "              <dt>Master</dt>\n",
       "                <dd><code>local[*]</code></dd>\n",
       "              <dt>AppName</dt>\n",
       "                <dd><code>practice</code></dd>\n",
       "            </dl>\n",
       "        </div>\n",
       "        \n",
       "            </div>\n",
       "        "
      ],
      "text/plain": [
       "<pyspark.sql.session.SparkSession at 0x1ce062d3890>"
      ]
     },
     "execution_count": 4,
     "metadata": {},
     "output_type": "execute_result"
    }
   ],
   "source": [
    "spark"
   ]
  },
  {
   "cell_type": "code",
   "execution_count": 5,
   "id": "e60d980d-ce7c-4979-a9a1-29df7cd0b03b",
   "metadata": {
    "scrolled": true
   },
   "outputs": [
    {
     "name": "stdout",
     "output_type": "stream",
     "text": [
      "+------+---------+--------------------+--------+----------+----------+-----------+----------+--------------+---------+---------+--------+---------+----------+----------+--------------+----------+----------+---------+------+----------------+----------+-------+-------+----------+---------+\n",
      "|   _c0|      _c1|                 _c2|     _c3|       _c4|       _c5|        _c6|       _c7|           _c8|      _c9|     _c10|    _c11|     _c12|      _c13|      _c14|          _c15|      _c16|      _c17|     _c18|  _c19|            _c20|      _c21|   _c22|   _c23|      _c24|     _c25|\n",
      "+------+---------+--------------------+--------+----------+----------+-----------+----------+--------------+---------+---------+--------+---------+----------+----------+--------------+----------+----------+---------+------+----------------+----------+-------+-------+----------+---------+\n",
      "|car_ID|symboling|             CarName|fueltype|aspiration|doornumber|    carbody|drivewheel|enginelocation|wheelbase|carlength|carwidth|carheight|curbweight|enginetype|cylindernumber|enginesize|fuelsystem|boreratio|stroke|compressionratio|horsepower|peakrpm|citympg|highwaympg|    price|\n",
      "|     1|        3|  alfa-romero giulia|     gas|       std|       two|convertible|       rwd|         front|     88.6|    168.8|    64.1|     48.8|      2548|      dohc|          four|       130|      mpfi|     3.47|  2.68|               9|       111|   5000|     21|        27|    13495|\n",
      "|     2|        3| alfa-romero stelvio|     gas|       std|       two|convertible|       rwd|         front|     88.6|    168.8|    64.1|     48.8|      2548|      dohc|          four|       130|      mpfi|     3.47|  2.68|               9|       111|   5000|     21|        27|    16500|\n",
      "|     3|        1|alfa-romero Quadr...|     gas|       std|       two|  hatchback|       rwd|         front|     94.5|    171.2|    65.5|     52.4|      2823|      ohcv|           six|       152|      mpfi|     2.68|  3.47|               9|       154|   5000|     19|        26|    16500|\n",
      "|     4|        2|         audi 100 ls|     gas|       std|      four|      sedan|       fwd|         front|     99.8|    176.6|    66.2|     54.3|      2337|       ohc|          four|       109|      mpfi|     3.19|   3.4|              10|       102|   5500|     24|        30|    13950|\n",
      "|     5|        2|          audi 100ls|     gas|       std|      four|      sedan|       4wd|         front|     99.4|    176.6|    66.4|     54.3|      2824|       ohc|          five|       136|      mpfi|     3.19|   3.4|               8|       115|   5500|     18|        22|    17450|\n",
      "|     6|        2|            audi fox|     gas|       std|       two|      sedan|       fwd|         front|     99.8|    177.3|    66.3|     53.1|      2507|       ohc|          five|       136|      mpfi|     3.19|   3.4|             8.5|       110|   5500|     19|        25|    15250|\n",
      "|     7|        1|          audi 100ls|     gas|       std|      four|      sedan|       fwd|         front|    105.8|    192.7|    71.4|     55.7|      2844|       ohc|          five|       136|      mpfi|     3.19|   3.4|             8.5|       110|   5500|     19|        25|    17710|\n",
      "|     8|        1|           audi 5000|     gas|       std|      four|      wagon|       fwd|         front|    105.8|    192.7|    71.4|     55.7|      2954|       ohc|          five|       136|      mpfi|     3.19|   3.4|             8.5|       110|   5500|     19|        25|    18920|\n",
      "|     9|        1|           audi 4000|     gas|     turbo|      four|      sedan|       fwd|         front|    105.8|    192.7|    71.4|     55.9|      3086|       ohc|          five|       131|      mpfi|     3.13|   3.4|             8.3|       140|   5500|     17|        20|    23875|\n",
      "|    10|        0| audi 5000s (diesel)|     gas|     turbo|       two|  hatchback|       4wd|         front|     99.5|    178.2|    67.9|       52|      3053|       ohc|          five|       131|      mpfi|     3.13|   3.4|               7|       160|   5500|     16|        22|17859.167|\n",
      "|    11|        2|            bmw 320i|     gas|       std|       two|      sedan|       rwd|         front|    101.2|    176.8|    64.8|     54.3|      2395|       ohc|          four|       108|      mpfi|      3.5|   2.8|             8.8|       101|   5800|     23|        29|    16430|\n",
      "|    12|        0|            bmw 320i|     gas|       std|      four|      sedan|       rwd|         front|    101.2|    176.8|    64.8|     54.3|      2395|       ohc|          four|       108|      mpfi|      3.5|   2.8|             8.8|       101|   5800|     23|        29|    16925|\n",
      "|    13|        0|              bmw x1|     gas|       std|       two|      sedan|       rwd|         front|    101.2|    176.8|    64.8|     54.3|      2710|       ohc|           six|       164|      mpfi|     3.31|  3.19|               9|       121|   4250|     21|        28|    20970|\n",
      "|    14|        0|              bmw x3|     gas|       std|      four|      sedan|       rwd|         front|    101.2|    176.8|    64.8|     54.3|      2765|       ohc|           six|       164|      mpfi|     3.31|  3.19|               9|       121|   4250|     21|        28|    21105|\n",
      "|    15|        1|              bmw z4|     gas|       std|      four|      sedan|       rwd|         front|    103.5|      189|    66.9|     55.7|      3055|       ohc|           six|       164|      mpfi|     3.31|  3.19|               9|       121|   4250|     20|        25|    24565|\n",
      "|    16|        0|              bmw x4|     gas|       std|      four|      sedan|       rwd|         front|    103.5|      189|    66.9|     55.7|      3230|       ohc|           six|       209|      mpfi|     3.62|  3.39|               8|       182|   5400|     16|        22|    30760|\n",
      "|    17|        0|              bmw x5|     gas|       std|       two|      sedan|       rwd|         front|    103.5|    193.8|    67.9|     53.7|      3380|       ohc|           six|       209|      mpfi|     3.62|  3.39|               8|       182|   5400|     16|        22|    41315|\n",
      "|    18|        0|              bmw x3|     gas|       std|      four|      sedan|       rwd|         front|      110|      197|    70.9|     56.3|      3505|       ohc|           six|       209|      mpfi|     3.62|  3.39|               8|       182|   5400|     15|        20|    36880|\n",
      "|    19|        2|    chevrolet impala|     gas|       std|       two|  hatchback|       fwd|         front|     88.4|    141.1|    60.3|     53.2|      1488|         l|         three|        61|      2bbl|     2.91|  3.03|             9.5|        48|   5100|     47|        53|     5151|\n",
      "+------+---------+--------------------+--------+----------+----------+-----------+----------+--------------+---------+---------+--------+---------+----------+----------+--------------+----------+----------+---------+------+----------------+----------+-------+-------+----------+---------+\n",
      "only showing top 20 rows\n",
      "\n"
     ]
    }
   ],
   "source": [
    "df_spark=spark.read.csv(\"CarPrice_Assignment.csv\")\n",
    "df_spark.show()"
   ]
  },
  {
   "cell_type": "code",
   "execution_count": 6,
   "id": "c8546f78-cdf3-4c65-96e9-3261768a1aa1",
   "metadata": {
    "scrolled": true
   },
   "outputs": [],
   "source": [
    "df_spark=spark.read.option(\"header\",\"true\").csv(\"CarPrice_Assignment.csv\",inferSchema=True)"
   ]
  },
  {
   "cell_type": "code",
   "execution_count": 7,
   "id": "dba9ed5d-f4f4-481c-aed3-a95a7ef1792c",
   "metadata": {
    "scrolled": true
   },
   "outputs": [
    {
     "data": {
      "text/plain": [
       "Row(car_ID=1, symboling=3, CarName='alfa-romero giulia', fueltype='gas', aspiration='std', doornumber='two', carbody='convertible', drivewheel='rwd', enginelocation='front', wheelbase=88.6, carlength=168.8, carwidth=64.1, carheight=48.8, curbweight=2548, enginetype='dohc', cylindernumber='four', enginesize=130, fuelsystem='mpfi', boreratio=3.47, stroke=2.68, compressionratio=9.0, horsepower=111, peakrpm=5000, citympg=21, highwaympg=27, price=13495.0)"
      ]
     },
     "execution_count": 7,
     "metadata": {},
     "output_type": "execute_result"
    }
   ],
   "source": [
    "df_spark.head()"
   ]
  },
  {
   "cell_type": "code",
   "execution_count": 8,
   "id": "021b2afe-7676-426a-b110-641647a75b7d",
   "metadata": {
    "scrolled": true
   },
   "outputs": [
    {
     "name": "stdout",
     "output_type": "stream",
     "text": [
      "root\n",
      " |-- car_ID: integer (nullable = true)\n",
      " |-- symboling: integer (nullable = true)\n",
      " |-- CarName: string (nullable = true)\n",
      " |-- fueltype: string (nullable = true)\n",
      " |-- aspiration: string (nullable = true)\n",
      " |-- doornumber: string (nullable = true)\n",
      " |-- carbody: string (nullable = true)\n",
      " |-- drivewheel: string (nullable = true)\n",
      " |-- enginelocation: string (nullable = true)\n",
      " |-- wheelbase: double (nullable = true)\n",
      " |-- carlength: double (nullable = true)\n",
      " |-- carwidth: double (nullable = true)\n",
      " |-- carheight: double (nullable = true)\n",
      " |-- curbweight: integer (nullable = true)\n",
      " |-- enginetype: string (nullable = true)\n",
      " |-- cylindernumber: string (nullable = true)\n",
      " |-- enginesize: integer (nullable = true)\n",
      " |-- fuelsystem: string (nullable = true)\n",
      " |-- boreratio: double (nullable = true)\n",
      " |-- stroke: double (nullable = true)\n",
      " |-- compressionratio: double (nullable = true)\n",
      " |-- horsepower: integer (nullable = true)\n",
      " |-- peakrpm: integer (nullable = true)\n",
      " |-- citympg: integer (nullable = true)\n",
      " |-- highwaympg: integer (nullable = true)\n",
      " |-- price: double (nullable = true)\n",
      "\n"
     ]
    }
   ],
   "source": [
    "df_spark.printSchema()"
   ]
  },
  {
   "cell_type": "code",
   "execution_count": 9,
   "id": "60df162a-ae45-4f88-abb8-277f7f238330",
   "metadata": {
    "scrolled": true
   },
   "outputs": [
    {
     "data": {
      "text/plain": [
       "pyspark.sql.dataframe.DataFrame"
      ]
     },
     "execution_count": 9,
     "metadata": {},
     "output_type": "execute_result"
    }
   ],
   "source": [
    "type(df_spark)"
   ]
  },
  {
   "cell_type": "code",
   "execution_count": 10,
   "id": "82b075f5-39e5-475e-be0c-ca45f62ce8d5",
   "metadata": {
    "scrolled": true
   },
   "outputs": [
    {
     "data": {
      "text/plain": [
       "['CarName',\n",
       " 'fueltype',\n",
       " 'aspiration',\n",
       " 'doornumber',\n",
       " 'carbody',\n",
       " 'drivewheel',\n",
       " 'enginelocation',\n",
       " 'wheelbase',\n",
       " 'carlength',\n",
       " 'carwidth',\n",
       " 'carheight',\n",
       " 'curbweight',\n",
       " 'enginetype',\n",
       " 'cylindernumber',\n",
       " 'enginesize',\n",
       " 'fuelsystem',\n",
       " 'boreratio',\n",
       " 'stroke',\n",
       " 'compressionratio',\n",
       " 'horsepower',\n",
       " 'peakrpm',\n",
       " 'citympg',\n",
       " 'highwaympg',\n",
       " 'price']"
      ]
     },
     "execution_count": 10,
     "metadata": {},
     "output_type": "execute_result"
    }
   ],
   "source": [
    "df_spark.columns[2:]"
   ]
  },
  {
   "cell_type": "code",
   "execution_count": 11,
   "id": "742dc9c9-73f2-4b38-a71d-bfdc68544541",
   "metadata": {
    "scrolled": true
   },
   "outputs": [
    {
     "data": {
      "text/plain": [
       "[Row(car_ID=1, symboling=3, CarName='alfa-romero giulia', fueltype='gas', aspiration='std', doornumber='two', carbody='convertible', drivewheel='rwd', enginelocation='front', wheelbase=88.6, carlength=168.8, carwidth=64.1, carheight=48.8, curbweight=2548, enginetype='dohc', cylindernumber='four', enginesize=130, fuelsystem='mpfi', boreratio=3.47, stroke=2.68, compressionratio=9.0, horsepower=111, peakrpm=5000, citympg=21, highwaympg=27, price=13495.0),\n",
       " Row(car_ID=2, symboling=3, CarName='alfa-romero stelvio', fueltype='gas', aspiration='std', doornumber='two', carbody='convertible', drivewheel='rwd', enginelocation='front', wheelbase=88.6, carlength=168.8, carwidth=64.1, carheight=48.8, curbweight=2548, enginetype='dohc', cylindernumber='four', enginesize=130, fuelsystem='mpfi', boreratio=3.47, stroke=2.68, compressionratio=9.0, horsepower=111, peakrpm=5000, citympg=21, highwaympg=27, price=16500.0),\n",
       " Row(car_ID=3, symboling=1, CarName='alfa-romero Quadrifoglio', fueltype='gas', aspiration='std', doornumber='two', carbody='hatchback', drivewheel='rwd', enginelocation='front', wheelbase=94.5, carlength=171.2, carwidth=65.5, carheight=52.4, curbweight=2823, enginetype='ohcv', cylindernumber='six', enginesize=152, fuelsystem='mpfi', boreratio=2.68, stroke=3.47, compressionratio=9.0, horsepower=154, peakrpm=5000, citympg=19, highwaympg=26, price=16500.0),\n",
       " Row(car_ID=4, symboling=2, CarName='audi 100 ls', fueltype='gas', aspiration='std', doornumber='four', carbody='sedan', drivewheel='fwd', enginelocation='front', wheelbase=99.8, carlength=176.6, carwidth=66.2, carheight=54.3, curbweight=2337, enginetype='ohc', cylindernumber='four', enginesize=109, fuelsystem='mpfi', boreratio=3.19, stroke=3.4, compressionratio=10.0, horsepower=102, peakrpm=5500, citympg=24, highwaympg=30, price=13950.0),\n",
       " Row(car_ID=5, symboling=2, CarName='audi 100ls', fueltype='gas', aspiration='std', doornumber='four', carbody='sedan', drivewheel='4wd', enginelocation='front', wheelbase=99.4, carlength=176.6, carwidth=66.4, carheight=54.3, curbweight=2824, enginetype='ohc', cylindernumber='five', enginesize=136, fuelsystem='mpfi', boreratio=3.19, stroke=3.4, compressionratio=8.0, horsepower=115, peakrpm=5500, citympg=18, highwaympg=22, price=17450.0)]"
      ]
     },
     "execution_count": 11,
     "metadata": {},
     "output_type": "execute_result"
    }
   ],
   "source": [
    "df_spark.head(5)"
   ]
  },
  {
   "cell_type": "code",
   "execution_count": 12,
   "id": "fcf20050-a0b0-43ca-80d4-359f263ba462",
   "metadata": {
    "scrolled": true
   },
   "outputs": [
    {
     "name": "stdout",
     "output_type": "stream",
     "text": [
      "+------+---------+--------------------+--------+----------+----------+-----------+----------+--------------+---------+---------+--------+---------+----------+----------+--------------+----------+----------+---------+------+----------------+----------+-------+-------+----------+---------+\n",
      "|car_ID|symboling|             CarName|fueltype|aspiration|doornumber|    carbody|drivewheel|enginelocation|wheelbase|carlength|carwidth|carheight|curbweight|enginetype|cylindernumber|enginesize|fuelsystem|boreratio|stroke|compressionratio|horsepower|peakrpm|citympg|highwaympg|    price|\n",
      "+------+---------+--------------------+--------+----------+----------+-----------+----------+--------------+---------+---------+--------+---------+----------+----------+--------------+----------+----------+---------+------+----------------+----------+-------+-------+----------+---------+\n",
      "|     1|        3|  alfa-romero giulia|     gas|       std|       two|convertible|       rwd|         front|     88.6|    168.8|    64.1|     48.8|      2548|      dohc|          four|       130|      mpfi|     3.47|  2.68|             9.0|       111|   5000|     21|        27|  13495.0|\n",
      "|     2|        3| alfa-romero stelvio|     gas|       std|       two|convertible|       rwd|         front|     88.6|    168.8|    64.1|     48.8|      2548|      dohc|          four|       130|      mpfi|     3.47|  2.68|             9.0|       111|   5000|     21|        27|  16500.0|\n",
      "|     3|        1|alfa-romero Quadr...|     gas|       std|       two|  hatchback|       rwd|         front|     94.5|    171.2|    65.5|     52.4|      2823|      ohcv|           six|       152|      mpfi|     2.68|  3.47|             9.0|       154|   5000|     19|        26|  16500.0|\n",
      "|     4|        2|         audi 100 ls|     gas|       std|      four|      sedan|       fwd|         front|     99.8|    176.6|    66.2|     54.3|      2337|       ohc|          four|       109|      mpfi|     3.19|   3.4|            10.0|       102|   5500|     24|        30|  13950.0|\n",
      "|     5|        2|          audi 100ls|     gas|       std|      four|      sedan|       4wd|         front|     99.4|    176.6|    66.4|     54.3|      2824|       ohc|          five|       136|      mpfi|     3.19|   3.4|             8.0|       115|   5500|     18|        22|  17450.0|\n",
      "|     6|        2|            audi fox|     gas|       std|       two|      sedan|       fwd|         front|     99.8|    177.3|    66.3|     53.1|      2507|       ohc|          five|       136|      mpfi|     3.19|   3.4|             8.5|       110|   5500|     19|        25|  15250.0|\n",
      "|     7|        1|          audi 100ls|     gas|       std|      four|      sedan|       fwd|         front|    105.8|    192.7|    71.4|     55.7|      2844|       ohc|          five|       136|      mpfi|     3.19|   3.4|             8.5|       110|   5500|     19|        25|  17710.0|\n",
      "|     8|        1|           audi 5000|     gas|       std|      four|      wagon|       fwd|         front|    105.8|    192.7|    71.4|     55.7|      2954|       ohc|          five|       136|      mpfi|     3.19|   3.4|             8.5|       110|   5500|     19|        25|  18920.0|\n",
      "|     9|        1|           audi 4000|     gas|     turbo|      four|      sedan|       fwd|         front|    105.8|    192.7|    71.4|     55.9|      3086|       ohc|          five|       131|      mpfi|     3.13|   3.4|             8.3|       140|   5500|     17|        20|  23875.0|\n",
      "|    10|        0| audi 5000s (diesel)|     gas|     turbo|       two|  hatchback|       4wd|         front|     99.5|    178.2|    67.9|     52.0|      3053|       ohc|          five|       131|      mpfi|     3.13|   3.4|             7.0|       160|   5500|     16|        22|17859.167|\n",
      "|    11|        2|            bmw 320i|     gas|       std|       two|      sedan|       rwd|         front|    101.2|    176.8|    64.8|     54.3|      2395|       ohc|          four|       108|      mpfi|      3.5|   2.8|             8.8|       101|   5800|     23|        29|  16430.0|\n",
      "|    12|        0|            bmw 320i|     gas|       std|      four|      sedan|       rwd|         front|    101.2|    176.8|    64.8|     54.3|      2395|       ohc|          four|       108|      mpfi|      3.5|   2.8|             8.8|       101|   5800|     23|        29|  16925.0|\n",
      "|    13|        0|              bmw x1|     gas|       std|       two|      sedan|       rwd|         front|    101.2|    176.8|    64.8|     54.3|      2710|       ohc|           six|       164|      mpfi|     3.31|  3.19|             9.0|       121|   4250|     21|        28|  20970.0|\n",
      "|    14|        0|              bmw x3|     gas|       std|      four|      sedan|       rwd|         front|    101.2|    176.8|    64.8|     54.3|      2765|       ohc|           six|       164|      mpfi|     3.31|  3.19|             9.0|       121|   4250|     21|        28|  21105.0|\n",
      "|    15|        1|              bmw z4|     gas|       std|      four|      sedan|       rwd|         front|    103.5|    189.0|    66.9|     55.7|      3055|       ohc|           six|       164|      mpfi|     3.31|  3.19|             9.0|       121|   4250|     20|        25|  24565.0|\n",
      "|    16|        0|              bmw x4|     gas|       std|      four|      sedan|       rwd|         front|    103.5|    189.0|    66.9|     55.7|      3230|       ohc|           six|       209|      mpfi|     3.62|  3.39|             8.0|       182|   5400|     16|        22|  30760.0|\n",
      "|    17|        0|              bmw x5|     gas|       std|       two|      sedan|       rwd|         front|    103.5|    193.8|    67.9|     53.7|      3380|       ohc|           six|       209|      mpfi|     3.62|  3.39|             8.0|       182|   5400|     16|        22|  41315.0|\n",
      "|    18|        0|              bmw x3|     gas|       std|      four|      sedan|       rwd|         front|    110.0|    197.0|    70.9|     56.3|      3505|       ohc|           six|       209|      mpfi|     3.62|  3.39|             8.0|       182|   5400|     15|        20|  36880.0|\n",
      "|    19|        2|    chevrolet impala|     gas|       std|       two|  hatchback|       fwd|         front|     88.4|    141.1|    60.3|     53.2|      1488|         l|         three|        61|      2bbl|     2.91|  3.03|             9.5|        48|   5100|     47|        53|   5151.0|\n",
      "|    20|        1|chevrolet monte c...|     gas|       std|       two|  hatchback|       fwd|         front|     94.5|    155.9|    63.6|     52.0|      1874|       ohc|          four|        90|      2bbl|     3.03|  3.11|             9.6|        70|   5400|     38|        43|   6295.0|\n",
      "+------+---------+--------------------+--------+----------+----------+-----------+----------+--------------+---------+---------+--------+---------+----------+----------+--------------+----------+----------+---------+------+----------------+----------+-------+-------+----------+---------+\n",
      "only showing top 20 rows\n",
      "\n"
     ]
    }
   ],
   "source": [
    "df_spark.show()"
   ]
  },
  {
   "cell_type": "code",
   "execution_count": 13,
   "id": "9c3fe48a-580b-4993-abba-3cf36de0a452",
   "metadata": {
    "scrolled": true
   },
   "outputs": [
    {
     "name": "stdout",
     "output_type": "stream",
     "text": [
      "+--------------------+\n",
      "|             CarName|\n",
      "+--------------------+\n",
      "|  alfa-romero giulia|\n",
      "| alfa-romero stelvio|\n",
      "|alfa-romero Quadr...|\n",
      "|         audi 100 ls|\n",
      "|          audi 100ls|\n",
      "|            audi fox|\n",
      "|          audi 100ls|\n",
      "|           audi 5000|\n",
      "|           audi 4000|\n",
      "| audi 5000s (diesel)|\n",
      "|            bmw 320i|\n",
      "|            bmw 320i|\n",
      "|              bmw x1|\n",
      "|              bmw x3|\n",
      "|              bmw z4|\n",
      "|              bmw x4|\n",
      "|              bmw x5|\n",
      "|              bmw x3|\n",
      "|    chevrolet impala|\n",
      "|chevrolet monte c...|\n",
      "+--------------------+\n",
      "only showing top 20 rows\n",
      "\n"
     ]
    }
   ],
   "source": [
    "df_spark.select(\"CarName\").show()"
   ]
  },
  {
   "cell_type": "code",
   "execution_count": 14,
   "id": "fe40a7f2-7d1b-4fbb-b20a-94f28338360e",
   "metadata": {
    "scrolled": true
   },
   "outputs": [
    {
     "name": "stdout",
     "output_type": "stream",
     "text": [
      "+--------------------+--------+\n",
      "|             CarName|fueltype|\n",
      "+--------------------+--------+\n",
      "|  alfa-romero giulia|     gas|\n",
      "| alfa-romero stelvio|     gas|\n",
      "|alfa-romero Quadr...|     gas|\n",
      "|         audi 100 ls|     gas|\n",
      "|          audi 100ls|     gas|\n",
      "|            audi fox|     gas|\n",
      "|          audi 100ls|     gas|\n",
      "|           audi 5000|     gas|\n",
      "|           audi 4000|     gas|\n",
      "| audi 5000s (diesel)|     gas|\n",
      "|            bmw 320i|     gas|\n",
      "|            bmw 320i|     gas|\n",
      "|              bmw x1|     gas|\n",
      "|              bmw x3|     gas|\n",
      "|              bmw z4|     gas|\n",
      "|              bmw x4|     gas|\n",
      "|              bmw x5|     gas|\n",
      "|              bmw x3|     gas|\n",
      "|    chevrolet impala|     gas|\n",
      "|chevrolet monte c...|     gas|\n",
      "+--------------------+--------+\n",
      "only showing top 20 rows\n",
      "\n"
     ]
    }
   ],
   "source": [
    "df_spark.select([\"CarName\",\"fueltype\"]).show()"
   ]
  },
  {
   "cell_type": "code",
   "execution_count": 15,
   "id": "1a8a451e-bf33-44ae-9a2e-a990b914a636",
   "metadata": {
    "scrolled": true
   },
   "outputs": [
    {
     "data": {
      "text/plain": [
       "[('car_ID', 'int'),\n",
       " ('symboling', 'int'),\n",
       " ('CarName', 'string'),\n",
       " ('fueltype', 'string'),\n",
       " ('aspiration', 'string'),\n",
       " ('doornumber', 'string'),\n",
       " ('carbody', 'string'),\n",
       " ('drivewheel', 'string'),\n",
       " ('enginelocation', 'string'),\n",
       " ('wheelbase', 'double'),\n",
       " ('carlength', 'double'),\n",
       " ('carwidth', 'double'),\n",
       " ('carheight', 'double'),\n",
       " ('curbweight', 'int'),\n",
       " ('enginetype', 'string'),\n",
       " ('cylindernumber', 'string'),\n",
       " ('enginesize', 'int'),\n",
       " ('fuelsystem', 'string'),\n",
       " ('boreratio', 'double'),\n",
       " ('stroke', 'double'),\n",
       " ('compressionratio', 'double'),\n",
       " ('horsepower', 'int'),\n",
       " ('peakrpm', 'int'),\n",
       " ('citympg', 'int'),\n",
       " ('highwaympg', 'int'),\n",
       " ('price', 'double')]"
      ]
     },
     "execution_count": 15,
     "metadata": {},
     "output_type": "execute_result"
    }
   ],
   "source": [
    "df_spark.dtypes"
   ]
  },
  {
   "cell_type": "code",
   "execution_count": 16,
   "id": "23c4e86e-53fa-4e9a-b009-dc85b6946cac",
   "metadata": {
    "scrolled": true
   },
   "outputs": [
    {
     "name": "stdout",
     "output_type": "stream",
     "text": [
      "+-------+-----------------+------------------+------------+--------+----------+----------+-----------+----------+--------------+------------------+------------------+-----------------+------------------+------------------+----------+--------------+------------------+----------+-------------------+-------------------+------------------+-----------------+-----------------+-----------------+-----------------+------------------+\n",
      "|summary|           car_ID|         symboling|     CarName|fueltype|aspiration|doornumber|    carbody|drivewheel|enginelocation|         wheelbase|         carlength|         carwidth|         carheight|        curbweight|enginetype|cylindernumber|        enginesize|fuelsystem|          boreratio|             stroke|  compressionratio|       horsepower|          peakrpm|          citympg|       highwaympg|             price|\n",
      "+-------+-----------------+------------------+------------+--------+----------+----------+-----------+----------+--------------+------------------+------------------+-----------------+------------------+------------------+----------+--------------+------------------+----------+-------------------+-------------------+------------------+-----------------+-----------------+-----------------+-----------------+------------------+\n",
      "|  count|              205|               205|         205|     205|       205|       205|        205|       205|           205|               205|               205|              205|               205|               205|       205|           205|               205|       205|                205|                205|               205|              205|              205|              205|              205|               205|\n",
      "|   mean|            103.0|0.8341463414634146|        NULL|    NULL|      NULL|      NULL|       NULL|      NULL|          NULL| 98.75658536585378|174.04926829268305|65.90780487804875|53.724878048780525|2555.5658536585365|      NULL|          NULL|126.90731707317073|      NULL| 3.3297560975609772|  3.255414634146336|10.142536585365855|104.1170731707317|5125.121951219512|25.21951219512195|30.75121951219512|13276.710570731706|\n",
      "| stddev|59.32256456582661|1.2453068281055295|        NULL|    NULL|      NULL|      NULL|       NULL|      NULL|          NULL|6.0217756850255695|12.337288526555188|2.145203852687182| 2.443521969904905| 520.6802035016384|      NULL|          NULL|41.642693438179855|      NULL|0.27084370542622915|0.31359701376080396|3.9720403218632985|39.54416680936115|476.9856430569459| 6.54214165300162|6.886443130941823| 7988.852331743147|\n",
      "|    min|                1|                -2|Nissan versa|  diesel|       std|      four|convertible|       4wd|         front|              86.6|             141.1|             60.3|              47.8|              1488|      dohc|         eight|                61|      1bbl|               2.54|               2.07|               7.0|               48|             4150|               13|               16|            5118.0|\n",
      "|    max|              205|                 3|   vw rabbit|     gas|     turbo|       two|      wagon|       rwd|          rear|             120.9|             208.1|             72.3|              59.8|              4066|     rotor|           two|               326|      spfi|               3.94|               4.17|              23.0|              288|             6600|               49|               54|           45400.0|\n",
      "+-------+-----------------+------------------+------------+--------+----------+----------+-----------+----------+--------------+------------------+------------------+-----------------+------------------+------------------+----------+--------------+------------------+----------+-------------------+-------------------+------------------+-----------------+-----------------+-----------------+-----------------+------------------+\n",
      "\n"
     ]
    }
   ],
   "source": [
    "df_spark.describe().show()"
   ]
  },
  {
   "cell_type": "code",
   "execution_count": 17,
   "id": "98631484-e0f3-4113-90ff-ed6bada64484",
   "metadata": {
    "scrolled": true
   },
   "outputs": [],
   "source": [
    "df_spark=df_spark.withColumn(\"doornumber2\",df_spark[\"doornumber\"]*2)"
   ]
  },
  {
   "cell_type": "code",
   "execution_count": 18,
   "id": "69c2eeda-f92f-4133-b4e2-183c5fdc7abc",
   "metadata": {},
   "outputs": [
    {
     "name": "stdout",
     "output_type": "stream",
     "text": [
      "+------+---------+--------------------+--------+----------+----------+-----------+----------+--------------+---------+---------+--------+---------+----------+----------+--------------+----------+----------+---------+------+----------------+----------+-------+-------+----------+---------+-----------+\n",
      "|car_ID|symboling|             CarName|fueltype|aspiration|doornumber|    carbody|drivewheel|enginelocation|wheelbase|carlength|carwidth|carheight|curbweight|enginetype|cylindernumber|enginesize|fuelsystem|boreratio|stroke|compressionratio|horsepower|peakrpm|citympg|highwaympg|    price|doornumber2|\n",
      "+------+---------+--------------------+--------+----------+----------+-----------+----------+--------------+---------+---------+--------+---------+----------+----------+--------------+----------+----------+---------+------+----------------+----------+-------+-------+----------+---------+-----------+\n",
      "|     1|        3|  alfa-romero giulia|     gas|       std|       two|convertible|       rwd|         front|     88.6|    168.8|    64.1|     48.8|      2548|      dohc|          four|       130|      mpfi|     3.47|  2.68|             9.0|       111|   5000|     21|        27|  13495.0|       NULL|\n",
      "|     2|        3| alfa-romero stelvio|     gas|       std|       two|convertible|       rwd|         front|     88.6|    168.8|    64.1|     48.8|      2548|      dohc|          four|       130|      mpfi|     3.47|  2.68|             9.0|       111|   5000|     21|        27|  16500.0|       NULL|\n",
      "|     3|        1|alfa-romero Quadr...|     gas|       std|       two|  hatchback|       rwd|         front|     94.5|    171.2|    65.5|     52.4|      2823|      ohcv|           six|       152|      mpfi|     2.68|  3.47|             9.0|       154|   5000|     19|        26|  16500.0|       NULL|\n",
      "|     4|        2|         audi 100 ls|     gas|       std|      four|      sedan|       fwd|         front|     99.8|    176.6|    66.2|     54.3|      2337|       ohc|          four|       109|      mpfi|     3.19|   3.4|            10.0|       102|   5500|     24|        30|  13950.0|       NULL|\n",
      "|     5|        2|          audi 100ls|     gas|       std|      four|      sedan|       4wd|         front|     99.4|    176.6|    66.4|     54.3|      2824|       ohc|          five|       136|      mpfi|     3.19|   3.4|             8.0|       115|   5500|     18|        22|  17450.0|       NULL|\n",
      "|     6|        2|            audi fox|     gas|       std|       two|      sedan|       fwd|         front|     99.8|    177.3|    66.3|     53.1|      2507|       ohc|          five|       136|      mpfi|     3.19|   3.4|             8.5|       110|   5500|     19|        25|  15250.0|       NULL|\n",
      "|     7|        1|          audi 100ls|     gas|       std|      four|      sedan|       fwd|         front|    105.8|    192.7|    71.4|     55.7|      2844|       ohc|          five|       136|      mpfi|     3.19|   3.4|             8.5|       110|   5500|     19|        25|  17710.0|       NULL|\n",
      "|     8|        1|           audi 5000|     gas|       std|      four|      wagon|       fwd|         front|    105.8|    192.7|    71.4|     55.7|      2954|       ohc|          five|       136|      mpfi|     3.19|   3.4|             8.5|       110|   5500|     19|        25|  18920.0|       NULL|\n",
      "|     9|        1|           audi 4000|     gas|     turbo|      four|      sedan|       fwd|         front|    105.8|    192.7|    71.4|     55.9|      3086|       ohc|          five|       131|      mpfi|     3.13|   3.4|             8.3|       140|   5500|     17|        20|  23875.0|       NULL|\n",
      "|    10|        0| audi 5000s (diesel)|     gas|     turbo|       two|  hatchback|       4wd|         front|     99.5|    178.2|    67.9|     52.0|      3053|       ohc|          five|       131|      mpfi|     3.13|   3.4|             7.0|       160|   5500|     16|        22|17859.167|       NULL|\n",
      "|    11|        2|            bmw 320i|     gas|       std|       two|      sedan|       rwd|         front|    101.2|    176.8|    64.8|     54.3|      2395|       ohc|          four|       108|      mpfi|      3.5|   2.8|             8.8|       101|   5800|     23|        29|  16430.0|       NULL|\n",
      "|    12|        0|            bmw 320i|     gas|       std|      four|      sedan|       rwd|         front|    101.2|    176.8|    64.8|     54.3|      2395|       ohc|          four|       108|      mpfi|      3.5|   2.8|             8.8|       101|   5800|     23|        29|  16925.0|       NULL|\n",
      "|    13|        0|              bmw x1|     gas|       std|       two|      sedan|       rwd|         front|    101.2|    176.8|    64.8|     54.3|      2710|       ohc|           six|       164|      mpfi|     3.31|  3.19|             9.0|       121|   4250|     21|        28|  20970.0|       NULL|\n",
      "|    14|        0|              bmw x3|     gas|       std|      four|      sedan|       rwd|         front|    101.2|    176.8|    64.8|     54.3|      2765|       ohc|           six|       164|      mpfi|     3.31|  3.19|             9.0|       121|   4250|     21|        28|  21105.0|       NULL|\n",
      "|    15|        1|              bmw z4|     gas|       std|      four|      sedan|       rwd|         front|    103.5|    189.0|    66.9|     55.7|      3055|       ohc|           six|       164|      mpfi|     3.31|  3.19|             9.0|       121|   4250|     20|        25|  24565.0|       NULL|\n",
      "|    16|        0|              bmw x4|     gas|       std|      four|      sedan|       rwd|         front|    103.5|    189.0|    66.9|     55.7|      3230|       ohc|           six|       209|      mpfi|     3.62|  3.39|             8.0|       182|   5400|     16|        22|  30760.0|       NULL|\n",
      "|    17|        0|              bmw x5|     gas|       std|       two|      sedan|       rwd|         front|    103.5|    193.8|    67.9|     53.7|      3380|       ohc|           six|       209|      mpfi|     3.62|  3.39|             8.0|       182|   5400|     16|        22|  41315.0|       NULL|\n",
      "|    18|        0|              bmw x3|     gas|       std|      four|      sedan|       rwd|         front|    110.0|    197.0|    70.9|     56.3|      3505|       ohc|           six|       209|      mpfi|     3.62|  3.39|             8.0|       182|   5400|     15|        20|  36880.0|       NULL|\n",
      "|    19|        2|    chevrolet impala|     gas|       std|       two|  hatchback|       fwd|         front|     88.4|    141.1|    60.3|     53.2|      1488|         l|         three|        61|      2bbl|     2.91|  3.03|             9.5|        48|   5100|     47|        53|   5151.0|       NULL|\n",
      "|    20|        1|chevrolet monte c...|     gas|       std|       two|  hatchback|       fwd|         front|     94.5|    155.9|    63.6|     52.0|      1874|       ohc|          four|        90|      2bbl|     3.03|  3.11|             9.6|        70|   5400|     38|        43|   6295.0|       NULL|\n",
      "+------+---------+--------------------+--------+----------+----------+-----------+----------+--------------+---------+---------+--------+---------+----------+----------+--------------+----------+----------+---------+------+----------------+----------+-------+-------+----------+---------+-----------+\n",
      "only showing top 20 rows\n",
      "\n"
     ]
    }
   ],
   "source": [
    "df_spark.show()"
   ]
  },
  {
   "cell_type": "code",
   "execution_count": 19,
   "id": "558a9472-eed9-4fef-ab65-df4f109b9774",
   "metadata": {
    "scrolled": true
   },
   "outputs": [
    {
     "data": {
      "text/plain": [
       "['car_ID',\n",
       " 'symboling',\n",
       " 'CarName',\n",
       " 'fueltype',\n",
       " 'aspiration',\n",
       " 'doornumber',\n",
       " 'carbody',\n",
       " 'drivewheel',\n",
       " 'enginelocation',\n",
       " 'wheelbase',\n",
       " 'carlength',\n",
       " 'carwidth',\n",
       " 'carheight',\n",
       " 'curbweight',\n",
       " 'enginetype',\n",
       " 'cylindernumber',\n",
       " 'enginesize',\n",
       " 'fuelsystem',\n",
       " 'boreratio',\n",
       " 'stroke',\n",
       " 'compressionratio',\n",
       " 'horsepower',\n",
       " 'peakrpm',\n",
       " 'citympg',\n",
       " 'highwaympg',\n",
       " 'price',\n",
       " 'doornumber2']"
      ]
     },
     "execution_count": 19,
     "metadata": {},
     "output_type": "execute_result"
    }
   ],
   "source": [
    "df_spark.columns"
   ]
  },
  {
   "cell_type": "code",
   "execution_count": 20,
   "id": "f555a1cf-2ac8-48dd-9d27-81db349a730d",
   "metadata": {},
   "outputs": [],
   "source": [
    "df_spark=df_spark.drop(\"doornumber2\")"
   ]
  },
  {
   "cell_type": "code",
   "execution_count": 21,
   "id": "63991d32-6959-4fdc-b458-d2c9c81e2425",
   "metadata": {
    "scrolled": true
   },
   "outputs": [
    {
     "data": {
      "text/plain": [
       "['car_ID',\n",
       " 'symboling',\n",
       " 'CarName',\n",
       " 'fueltype',\n",
       " 'aspiration',\n",
       " 'doornumber',\n",
       " 'carbody',\n",
       " 'drivewheel',\n",
       " 'enginelocation',\n",
       " 'wheelbase',\n",
       " 'carlength',\n",
       " 'carwidth',\n",
       " 'carheight',\n",
       " 'curbweight',\n",
       " 'enginetype',\n",
       " 'cylindernumber',\n",
       " 'enginesize',\n",
       " 'fuelsystem',\n",
       " 'boreratio',\n",
       " 'stroke',\n",
       " 'compressionratio',\n",
       " 'horsepower',\n",
       " 'peakrpm',\n",
       " 'citympg',\n",
       " 'highwaympg',\n",
       " 'price']"
      ]
     },
     "execution_count": 21,
     "metadata": {},
     "output_type": "execute_result"
    }
   ],
   "source": [
    "df_spark.columns"
   ]
  },
  {
   "cell_type": "code",
   "execution_count": 22,
   "id": "a1bfde62-000f-436d-a861-c06d643e971e",
   "metadata": {
    "scrolled": true
   },
   "outputs": [],
   "source": [
    "df_spark=df_spark.withColumnRenamed(\"price\",\"PRICE\")"
   ]
  },
  {
   "cell_type": "code",
   "execution_count": 23,
   "id": "794ffdc7-92bd-4503-ab8a-43dd49a3df8d",
   "metadata": {},
   "outputs": [
    {
     "data": {
      "text/plain": [
       "['car_ID',\n",
       " 'symboling',\n",
       " 'CarName',\n",
       " 'fueltype',\n",
       " 'aspiration',\n",
       " 'doornumber',\n",
       " 'carbody',\n",
       " 'drivewheel',\n",
       " 'enginelocation',\n",
       " 'wheelbase',\n",
       " 'carlength',\n",
       " 'carwidth',\n",
       " 'carheight',\n",
       " 'curbweight',\n",
       " 'enginetype',\n",
       " 'cylindernumber',\n",
       " 'enginesize',\n",
       " 'fuelsystem',\n",
       " 'boreratio',\n",
       " 'stroke',\n",
       " 'compressionratio',\n",
       " 'horsepower',\n",
       " 'peakrpm',\n",
       " 'citympg',\n",
       " 'highwaympg',\n",
       " 'PRICE']"
      ]
     },
     "execution_count": 23,
     "metadata": {},
     "output_type": "execute_result"
    }
   ],
   "source": [
    "df_spark.columns"
   ]
  },
  {
   "cell_type": "code",
   "execution_count": 24,
   "id": "44b3f9a4-8ef1-4566-b9dd-fcfe7a1483f5",
   "metadata": {},
   "outputs": [
    {
     "name": "stdout",
     "output_type": "stream",
     "text": [
      "+------+---------+--------------------+--------+----------+----------+-----------+----------+--------------+---------+---------+--------+---------+----------+----------+--------------+----------+----------+---------+------+----------------+----------+-------+-------+----------+---------+\n",
      "|car_ID|symboling|             CarName|fueltype|aspiration|doornumber|    carbody|drivewheel|enginelocation|wheelbase|carlength|carwidth|carheight|curbweight|enginetype|cylindernumber|enginesize|fuelsystem|boreratio|stroke|compressionratio|horsepower|peakrpm|citympg|highwaympg|    PRICE|\n",
      "+------+---------+--------------------+--------+----------+----------+-----------+----------+--------------+---------+---------+--------+---------+----------+----------+--------------+----------+----------+---------+------+----------------+----------+-------+-------+----------+---------+\n",
      "|     1|        3|  alfa-romero giulia|     gas|       std|       two|convertible|       rwd|         front|     88.6|    168.8|    64.1|     48.8|      2548|      dohc|          four|       130|      mpfi|     3.47|  2.68|             9.0|       111|   5000|     21|        27|  13495.0|\n",
      "|     2|        3| alfa-romero stelvio|     gas|       std|       two|convertible|       rwd|         front|     88.6|    168.8|    64.1|     48.8|      2548|      dohc|          four|       130|      mpfi|     3.47|  2.68|             9.0|       111|   5000|     21|        27|  16500.0|\n",
      "|     3|        1|alfa-romero Quadr...|     gas|       std|       two|  hatchback|       rwd|         front|     94.5|    171.2|    65.5|     52.4|      2823|      ohcv|           six|       152|      mpfi|     2.68|  3.47|             9.0|       154|   5000|     19|        26|  16500.0|\n",
      "|     4|        2|         audi 100 ls|     gas|       std|      four|      sedan|       fwd|         front|     99.8|    176.6|    66.2|     54.3|      2337|       ohc|          four|       109|      mpfi|     3.19|   3.4|            10.0|       102|   5500|     24|        30|  13950.0|\n",
      "|     5|        2|          audi 100ls|     gas|       std|      four|      sedan|       4wd|         front|     99.4|    176.6|    66.4|     54.3|      2824|       ohc|          five|       136|      mpfi|     3.19|   3.4|             8.0|       115|   5500|     18|        22|  17450.0|\n",
      "|     6|        2|            audi fox|     gas|       std|       two|      sedan|       fwd|         front|     99.8|    177.3|    66.3|     53.1|      2507|       ohc|          five|       136|      mpfi|     3.19|   3.4|             8.5|       110|   5500|     19|        25|  15250.0|\n",
      "|     7|        1|          audi 100ls|     gas|       std|      four|      sedan|       fwd|         front|    105.8|    192.7|    71.4|     55.7|      2844|       ohc|          five|       136|      mpfi|     3.19|   3.4|             8.5|       110|   5500|     19|        25|  17710.0|\n",
      "|     8|        1|           audi 5000|     gas|       std|      four|      wagon|       fwd|         front|    105.8|    192.7|    71.4|     55.7|      2954|       ohc|          five|       136|      mpfi|     3.19|   3.4|             8.5|       110|   5500|     19|        25|  18920.0|\n",
      "|     9|        1|           audi 4000|     gas|     turbo|      four|      sedan|       fwd|         front|    105.8|    192.7|    71.4|     55.9|      3086|       ohc|          five|       131|      mpfi|     3.13|   3.4|             8.3|       140|   5500|     17|        20|  23875.0|\n",
      "|    10|        0| audi 5000s (diesel)|     gas|     turbo|       two|  hatchback|       4wd|         front|     99.5|    178.2|    67.9|     52.0|      3053|       ohc|          five|       131|      mpfi|     3.13|   3.4|             7.0|       160|   5500|     16|        22|17859.167|\n",
      "|    11|        2|            bmw 320i|     gas|       std|       two|      sedan|       rwd|         front|    101.2|    176.8|    64.8|     54.3|      2395|       ohc|          four|       108|      mpfi|      3.5|   2.8|             8.8|       101|   5800|     23|        29|  16430.0|\n",
      "|    12|        0|            bmw 320i|     gas|       std|      four|      sedan|       rwd|         front|    101.2|    176.8|    64.8|     54.3|      2395|       ohc|          four|       108|      mpfi|      3.5|   2.8|             8.8|       101|   5800|     23|        29|  16925.0|\n",
      "|    13|        0|              bmw x1|     gas|       std|       two|      sedan|       rwd|         front|    101.2|    176.8|    64.8|     54.3|      2710|       ohc|           six|       164|      mpfi|     3.31|  3.19|             9.0|       121|   4250|     21|        28|  20970.0|\n",
      "|    14|        0|              bmw x3|     gas|       std|      four|      sedan|       rwd|         front|    101.2|    176.8|    64.8|     54.3|      2765|       ohc|           six|       164|      mpfi|     3.31|  3.19|             9.0|       121|   4250|     21|        28|  21105.0|\n",
      "|    15|        1|              bmw z4|     gas|       std|      four|      sedan|       rwd|         front|    103.5|    189.0|    66.9|     55.7|      3055|       ohc|           six|       164|      mpfi|     3.31|  3.19|             9.0|       121|   4250|     20|        25|  24565.0|\n",
      "|    16|        0|              bmw x4|     gas|       std|      four|      sedan|       rwd|         front|    103.5|    189.0|    66.9|     55.7|      3230|       ohc|           six|       209|      mpfi|     3.62|  3.39|             8.0|       182|   5400|     16|        22|  30760.0|\n",
      "|    17|        0|              bmw x5|     gas|       std|       two|      sedan|       rwd|         front|    103.5|    193.8|    67.9|     53.7|      3380|       ohc|           six|       209|      mpfi|     3.62|  3.39|             8.0|       182|   5400|     16|        22|  41315.0|\n",
      "|    18|        0|              bmw x3|     gas|       std|      four|      sedan|       rwd|         front|    110.0|    197.0|    70.9|     56.3|      3505|       ohc|           six|       209|      mpfi|     3.62|  3.39|             8.0|       182|   5400|     15|        20|  36880.0|\n",
      "|    19|        2|    chevrolet impala|     gas|       std|       two|  hatchback|       fwd|         front|     88.4|    141.1|    60.3|     53.2|      1488|         l|         three|        61|      2bbl|     2.91|  3.03|             9.5|        48|   5100|     47|        53|   5151.0|\n",
      "|    20|        1|chevrolet monte c...|     gas|       std|       two|  hatchback|       fwd|         front|     94.5|    155.9|    63.6|     52.0|      1874|       ohc|          four|        90|      2bbl|     3.03|  3.11|             9.6|        70|   5400|     38|        43|   6295.0|\n",
      "+------+---------+--------------------+--------+----------+----------+-----------+----------+--------------+---------+---------+--------+---------+----------+----------+--------------+----------+----------+---------+------+----------------+----------+-------+-------+----------+---------+\n",
      "only showing top 20 rows\n",
      "\n"
     ]
    }
   ],
   "source": [
    "df_spark.na.drop().show()"
   ]
  },
  {
   "cell_type": "code",
   "execution_count": 33,
   "id": "a0477365-0573-4447-b922-92488f7ec3f2",
   "metadata": {
    "scrolled": true
   },
   "outputs": [
    {
     "name": "stdout",
     "output_type": "stream",
     "text": [
      "+------+---------+-------------------+--------+----------+----------+-----------+----------+--------------+---------+---------+--------+---------+----------+----------+--------------+----------+----------+---------+------+----------------+----------+-------+-------+----------+-------+\n",
      "|car_ID|symboling|            CarName|fueltype|aspiration|doornumber|    carbody|drivewheel|enginelocation|wheelbase|carlength|carwidth|carheight|curbweight|enginetype|cylindernumber|enginesize|fuelsystem|boreratio|stroke|compressionratio|horsepower|peakrpm|citympg|highwaympg|  PRICE|\n",
      "+------+---------+-------------------+--------+----------+----------+-----------+----------+--------------+---------+---------+--------+---------+----------+----------+--------------+----------+----------+---------+------+----------------+----------+-------+-------+----------+-------+\n",
      "|     1|        3| alfa-romero giulia|     gas|       std|       two|convertible|       rwd|         front|     88.6|    168.8|    64.1|     48.8|      2548|      dohc|          four|       130|      mpfi|     3.47|  2.68|             9.0|       111|   5000|     21|        27|13495.0|\n",
      "|     2|        3|alfa-romero stelvio|     gas|       std|       two|convertible|       rwd|         front|     88.6|    168.8|    64.1|     48.8|      2548|      dohc|          four|       130|      mpfi|     3.47|  2.68|             9.0|       111|   5000|     21|        27|16500.0|\n",
      "|    73|        3|      buick skylark|     gas|       std|       two|convertible|       rwd|         front|     96.6|    180.3|    70.5|     50.8|      3685|      ohcv|         eight|       234|      mpfi|     3.46|   3.1|             8.3|       155|   4750|     16|        18|35056.0|\n",
      "|   129|        3|     porsche boxter|     gas|       std|       two|convertible|       rwd|          rear|     89.5|    168.9|    65.0|     51.6|      2800|      ohcf|           six|       194|      mpfi|     3.74|   2.9|             9.5|       207|   5900|     17|        25|37028.0|\n",
      "|   173|        2|    toyota cressida|     gas|       std|       two|convertible|       rwd|         front|     98.4|    176.2|    65.6|     53.0|      2975|       ohc|          four|       146|      mpfi|     3.62|   3.5|             9.3|       116|   4800|     24|        30|17669.0|\n",
      "|   190|        3|          vw dasher|     gas|       std|       two|convertible|       fwd|         front|     94.5|    159.3|    64.2|     55.6|      2254|       ohc|          four|       109|      mpfi|     3.19|   3.4|             8.5|        90|   5500|     24|        29|11595.0|\n",
      "+------+---------+-------------------+--------+----------+----------+-----------+----------+--------------+---------+---------+--------+---------+----------+----------+--------------+----------+----------+---------+------+----------------+----------+-------+-------+----------+-------+\n",
      "\n"
     ]
    }
   ],
   "source": [
    "df_spark[(df_spark[\"aspiration\"]==2) | (df_spark[\"carbody\"]==\"convertible\")].show()"
   ]
  },
  {
   "cell_type": "code",
   "execution_count": 34,
   "id": "15ac3195-ad3e-4951-91db-224b2c9a41e0",
   "metadata": {},
   "outputs": [
    {
     "name": "stdout",
     "output_type": "stream",
     "text": [
      "+------+---------+-------------------+--------+----------+----------+-----------+----------+--------------+---------+---------+--------+---------+----------+----------+--------------+----------+----------+---------+------+----------------+----------+-------+-------+----------+-------+\n",
      "|car_ID|symboling|            CarName|fueltype|aspiration|doornumber|    carbody|drivewheel|enginelocation|wheelbase|carlength|carwidth|carheight|curbweight|enginetype|cylindernumber|enginesize|fuelsystem|boreratio|stroke|compressionratio|horsepower|peakrpm|citympg|highwaympg|  PRICE|\n",
      "+------+---------+-------------------+--------+----------+----------+-----------+----------+--------------+---------+---------+--------+---------+----------+----------+--------------+----------+----------+---------+------+----------------+----------+-------+-------+----------+-------+\n",
      "|     1|        3| alfa-romero giulia|     gas|       std|       two|convertible|       rwd|         front|     88.6|    168.8|    64.1|     48.8|      2548|      dohc|          four|       130|      mpfi|     3.47|  2.68|             9.0|       111|   5000|     21|        27|13495.0|\n",
      "|     2|        3|alfa-romero stelvio|     gas|       std|       two|convertible|       rwd|         front|     88.6|    168.8|    64.1|     48.8|      2548|      dohc|          four|       130|      mpfi|     3.47|  2.68|             9.0|       111|   5000|     21|        27|16500.0|\n",
      "|    73|        3|      buick skylark|     gas|       std|       two|convertible|       rwd|         front|     96.6|    180.3|    70.5|     50.8|      3685|      ohcv|         eight|       234|      mpfi|     3.46|   3.1|             8.3|       155|   4750|     16|        18|35056.0|\n",
      "|   129|        3|     porsche boxter|     gas|       std|       two|convertible|       rwd|          rear|     89.5|    168.9|    65.0|     51.6|      2800|      ohcf|           six|       194|      mpfi|     3.74|   2.9|             9.5|       207|   5900|     17|        25|37028.0|\n",
      "|   173|        2|    toyota cressida|     gas|       std|       two|convertible|       rwd|         front|     98.4|    176.2|    65.6|     53.0|      2975|       ohc|          four|       146|      mpfi|     3.62|   3.5|             9.3|       116|   4800|     24|        30|17669.0|\n",
      "|   190|        3|          vw dasher|     gas|       std|       two|convertible|       fwd|         front|     94.5|    159.3|    64.2|     55.6|      2254|       ohc|          four|       109|      mpfi|     3.19|   3.4|             8.5|        90|   5500|     24|        29|11595.0|\n",
      "+------+---------+-------------------+--------+----------+----------+-----------+----------+--------------+---------+---------+--------+---------+----------+----------+--------------+----------+----------+---------+------+----------------+----------+-------+-------+----------+-------+\n",
      "\n"
     ]
    }
   ],
   "source": [
    "df_spark.filter(\n",
    "    (df_spark[\"aspiration\"]==2) |\n",
    "    (df_spark[\"carbody\"]==\"convertible\")).show()"
   ]
  }
 ],
 "metadata": {
  "kernelspec": {
   "display_name": "Python 3 (ipykernel)",
   "language": "python",
   "name": "python3"
  },
  "language_info": {
   "codemirror_mode": {
    "name": "ipython",
    "version": 3
   },
   "file_extension": ".py",
   "mimetype": "text/x-python",
   "name": "python",
   "nbconvert_exporter": "python",
   "pygments_lexer": "ipython3",
   "version": "3.11.7"
  }
 },
 "nbformat": 4,
 "nbformat_minor": 5
}
